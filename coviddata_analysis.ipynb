{
 "cells": [
  {
   "cell_type": "markdown",
   "metadata": {},
   "source": [
    "# Project: COVID death rate and World Health Statistics by Jyothi Samudrala\n"
   ]
  },
  {
   "cell_type": "markdown",
   "metadata": {},
   "source": [
    "Is covid death rate higher in countries where substance abuse is higher?\n",
    "\n",
    "Is covid death rate higher in countries that have a high probability of death from non-communicable diseases?\n",
    "\n",
    "Is covid death rate higher in countries that have high tobacco consumption?\n",
    "\n",
    "Current news and studies may answer with a general “yes” to the above questions. However, my intent is to understand the true relation between death rate and some of the world health statistics; perhaps there are surprises that go against conventional understanding. "
   ]
  },
  {
   "cell_type": "markdown",
   "metadata": {},
   "source": [
    "## Cleaning and Creating Final Dataset"
   ]
  },
  {
   "cell_type": "code",
   "execution_count": 109,
   "metadata": {},
   "outputs": [
    {
     "name": "stderr",
     "output_type": "stream",
     "text": [
      "C:\\Users\\prate\\anaconda3\\lib\\site-packages\\pandas\\core\\frame.py:4296: SettingWithCopyWarning: \n",
      "A value is trying to be set on a copy of a slice from a DataFrame\n",
      "\n",
      "See the caveats in the documentation: https://pandas.pydata.org/pandas-docs/stable/user_guide/indexing.html#returning-a-view-versus-a-copy\n",
      "  return super().rename(\n"
     ]
    }
   ],
   "source": [
    "import pandas as pd\n",
    "import os\n",
    "import seaborn as sns\n",
    "import matplotlib.pyplot as plt\n",
    "import numpy as np\n",
    "from numpy import cov\n",
    "from scipy.stats import pearsonr\n",
    "from scipy.stats import spearmanr\n",
    "from sklearn import linear_model\n",
    "import statsmodels.api as sm\n",
    "from scipy.stats import ttest_1samp\n",
    "import pandas as pd\n",
    "from scipy import stats\n",
    "from statsmodels.stats import weightstats as stests\n",
    "\n",
    "\n",
    "# Importing Covid Data by Country into a dataframe using Pandas\n",
    "covid_df = pd.read_csv(\"country_wise_latest.csv\") \n",
    "\n",
    "# Importing World Health Data into a dataframe using Pandas\n",
    "noncommunicable_df = pd.read_csv(\"30-70cancerChdEtc.csv\") \n",
    "alcoholabuse_df =  pd.read_csv(\"alcoholSubstanceAbuse.csv\") \n",
    "householdexpenditure_df = pd.read_csv(\"population25SDG3.8.2.csv\") \n",
    "tobaccousage_df = pd.read_csv(\"tobaccoAge15.csv\") \n",
    "\n",
    "# Cleaning covid data\n",
    "# Columns - Country, Death Rate and Recovery Rate\n",
    "covid_df['Death Rate'] = 100*(covid_df['Deaths']/covid_df['Confirmed'])\n",
    "covid_df['Recovery Rate'] = 100*(covid_df['Recovered']/covid_df['Confirmed'])\n",
    "new_covid_df = covid_df[['Country/Region','Death Rate', 'Recovery Rate']]\n",
    "new_covid_df.rename(columns = {'Country/Region':'Location'}, inplace = True)\n",
    "\n",
    "# Cleaning world health data\n",
    "# Cleaning the data representing probability of dying from non-communicable diseases between the age of 30 and 70\n",
    "# Selecting data only for the most recent (and available) year 2016, for both sexes\n",
    "new_noncommunicable_df = noncommunicable_df[(noncommunicable_df['Period']==2016) & (noncommunicable_df['Dim1']==\"Both sexes\")]\n",
    "# Selecting only the relevant columns and renaming them\n",
    "new_noncommunicable_df = new_noncommunicable_df[['Location', 'First Tooltip']]\n",
    "new_noncommunicable_df.rename(columns = {'First Tooltip':'noncommunicabledeath_prob'}, inplace = True)\n",
    "\n",
    "# Cleaning the data representing alcohol consumption per capita\n",
    "# Selecting data only for the most recent (and available) year 2018, for both sexes\n",
    "new_alcoholabuse_df = alcoholabuse_df[(alcoholabuse_df['Period']==2018) & (alcoholabuse_df['Dim1']==\"Both sexes\")]\n",
    "# Selecting only the relevant columns and renaming them\n",
    "new_alcoholabuse_df = new_alcoholabuse_df[['Location', 'First Tooltip']]\n",
    "new_alcoholabuse_df.rename(columns = {'First Tooltip':'alcoholconsumption_percapita'}, inplace = True)\n",
    "\n",
    "# Cleaning the data representing  population with household expenditures on health greater than 25% of total household expenditure or income\n",
    "# Selecting data only for the most recent year 2016, for total (including urban and rural)\n",
    "new_householdexpenditure_df = householdexpenditure_df[(householdexpenditure_df['Period']==2016) & (householdexpenditure_df['Dim1']==\"Total\")]\n",
    "# Note: We will proceed further with this data as new_householdexpenditure_df as it only has 22 countries. \n",
    "\n",
    "\n",
    "# Cleaning the data representing tobacco use among persons aged 15 years and older\n",
    "# Selecting data only for the most recent (and available) year 2018, for both sexes\n",
    "new_tobaccousage_df = tobaccousage_df[(tobaccousage_df['Period']==2018) & (tobaccousage_df['Dim1']==\"Both sexes\")]\n",
    "# Selecting only the relevant columns and renaming them\n",
    "new_tobaccousage_df = new_tobaccousage_df[['Location', 'First Tooltip']]\n",
    "new_tobaccousage_df.rename(columns = {'First Tooltip':'tobacco_usage'}, inplace = True)\n",
    "\n",
    "# Creating the final dataset \n",
    "# Combining Covid data with non communicable dieases data, with Location (country) as key\n",
    "combined_final_df = pd.merge(new_covid_df, new_noncommunicable_df, on='Location', how='outer')\n",
    "# Combining above dataset with alcohol abuse data, with Location (country) as key\n",
    "combined_final_df = pd.merge(combined_final_df, new_alcoholabuse_df, on='Location', how='outer')\n",
    "# Combining above dataset with tobacco usage data, with Location (country) as key\n",
    "combined_final_df = pd.merge(combined_final_df, new_tobaccousage_df, on='Location', how='outer')\n",
    "\n",
    "\n",
    "# Dropping rows with nan values\n",
    "combined_final_df = combined_final_df.dropna()\n",
    "\n",
    "\n"
   ]
  },
  {
   "cell_type": "code",
   "execution_count": 108,
   "metadata": {},
   "outputs": [
    {
     "name": "stdout",
     "output_type": "stream",
     "text": [
      "<class 'pandas.core.frame.DataFrame'>\n",
      "Int64Index: 126 entries, 1 to 186\n",
      "Data columns (total 6 columns):\n",
      " #   Column                        Non-Null Count  Dtype  \n",
      "---  ------                        --------------  -----  \n",
      " 0   Location                      126 non-null    object \n",
      " 1   Death Rate                    126 non-null    float64\n",
      " 2   Recovery Rate                 126 non-null    float64\n",
      " 3   noncommunicabledeath_prob     126 non-null    float64\n",
      " 4   alcoholconsumption_percapita  126 non-null    float64\n",
      " 5   tobacco_usage                 126 non-null    float64\n",
      "dtypes: float64(5), object(1)\n",
      "memory usage: 6.9+ KB\n"
     ]
    }
   ],
   "source": [
    "# General info on the final data frame. We have 156 rows. 4 Columns. One Object datatype, and the rest are float64.\n",
    "combined_final_df.info()\n"
   ]
  },
  {
   "cell_type": "code",
   "execution_count": 10,
   "metadata": {},
   "outputs": [
    {
     "data": {
      "text/html": [
       "<div>\n",
       "<style scoped>\n",
       "    .dataframe tbody tr th:only-of-type {\n",
       "        vertical-align: middle;\n",
       "    }\n",
       "\n",
       "    .dataframe tbody tr th {\n",
       "        vertical-align: top;\n",
       "    }\n",
       "\n",
       "    .dataframe thead th {\n",
       "        text-align: right;\n",
       "    }\n",
       "</style>\n",
       "<table border=\"1\" class=\"dataframe\">\n",
       "  <thead>\n",
       "    <tr style=\"text-align: right;\">\n",
       "      <th></th>\n",
       "      <th>Location</th>\n",
       "      <th>Death Rate</th>\n",
       "      <th>Recovery Rate</th>\n",
       "      <th>noncommunicabledeath_prob</th>\n",
       "      <th>alcoholconsumption_percapita</th>\n",
       "      <th>tobacco_usage</th>\n",
       "    </tr>\n",
       "  </thead>\n",
       "  <tbody>\n",
       "    <tr>\n",
       "      <th>1</th>\n",
       "      <td>Albania</td>\n",
       "      <td>2.950820</td>\n",
       "      <td>56.250000</td>\n",
       "      <td>17.0</td>\n",
       "      <td>7.17</td>\n",
       "      <td>29.2</td>\n",
       "    </tr>\n",
       "    <tr>\n",
       "      <th>2</th>\n",
       "      <td>Algeria</td>\n",
       "      <td>4.157581</td>\n",
       "      <td>67.339935</td>\n",
       "      <td>14.2</td>\n",
       "      <td>0.95</td>\n",
       "      <td>18.8</td>\n",
       "    </tr>\n",
       "    <tr>\n",
       "      <th>6</th>\n",
       "      <td>Argentina</td>\n",
       "      <td>1.827185</td>\n",
       "      <td>43.350098</td>\n",
       "      <td>15.8</td>\n",
       "      <td>9.65</td>\n",
       "      <td>21.8</td>\n",
       "    </tr>\n",
       "    <tr>\n",
       "      <th>7</th>\n",
       "      <td>Armenia</td>\n",
       "      <td>1.901578</td>\n",
       "      <td>71.315860</td>\n",
       "      <td>22.3</td>\n",
       "      <td>5.55</td>\n",
       "      <td>26.7</td>\n",
       "    </tr>\n",
       "    <tr>\n",
       "      <th>8</th>\n",
       "      <td>Australia</td>\n",
       "      <td>1.091289</td>\n",
       "      <td>60.844279</td>\n",
       "      <td>9.1</td>\n",
       "      <td>10.51</td>\n",
       "      <td>16.2</td>\n",
       "    </tr>\n",
       "  </tbody>\n",
       "</table>\n",
       "</div>"
      ],
      "text/plain": [
       "    Location  Death Rate  Recovery Rate  noncommunicabledeath_prob  \\\n",
       "1    Albania    2.950820      56.250000                       17.0   \n",
       "2    Algeria    4.157581      67.339935                       14.2   \n",
       "6  Argentina    1.827185      43.350098                       15.8   \n",
       "7    Armenia    1.901578      71.315860                       22.3   \n",
       "8  Australia    1.091289      60.844279                        9.1   \n",
       "\n",
       "   alcoholconsumption_percapita  tobacco_usage  \n",
       "1                          7.17           29.2  \n",
       "2                          0.95           18.8  \n",
       "6                          9.65           21.8  \n",
       "7                          5.55           26.7  \n",
       "8                         10.51           16.2  "
      ]
     },
     "execution_count": 10,
     "metadata": {},
     "output_type": "execute_result"
    }
   ],
   "source": [
    "combined_final_df.head()\n"
   ]
  },
  {
   "cell_type": "code",
   "execution_count": 107,
   "metadata": {},
   "outputs": [],
   "source": [
    "# As indicated, there are no duplicates in the data\n",
    "duplicates = combined_final_df.Location.value_counts()\n",
    " "
   ]
  },
  {
   "cell_type": "code",
   "execution_count": 106,
   "metadata": {},
   "outputs": [
    {
     "data": {
      "text/html": [
       "<div>\n",
       "<style scoped>\n",
       "    .dataframe tbody tr th:only-of-type {\n",
       "        vertical-align: middle;\n",
       "    }\n",
       "\n",
       "    .dataframe tbody tr th {\n",
       "        vertical-align: top;\n",
       "    }\n",
       "\n",
       "    .dataframe thead th {\n",
       "        text-align: right;\n",
       "    }\n",
       "</style>\n",
       "<table border=\"1\" class=\"dataframe\">\n",
       "  <thead>\n",
       "    <tr style=\"text-align: right;\">\n",
       "      <th></th>\n",
       "      <th>Death Rate</th>\n",
       "      <th>Recovery Rate</th>\n",
       "      <th>noncommunicabledeath_prob</th>\n",
       "      <th>alcoholconsumption_percapita</th>\n",
       "      <th>tobacco_usage</th>\n",
       "    </tr>\n",
       "  </thead>\n",
       "  <tbody>\n",
       "    <tr>\n",
       "      <th>count</th>\n",
       "      <td>126.000000</td>\n",
       "      <td>126.000000</td>\n",
       "      <td>126.000000</td>\n",
       "      <td>126.000000</td>\n",
       "      <td>126.000000</td>\n",
       "    </tr>\n",
       "    <tr>\n",
       "      <th>mean</th>\n",
       "      <td>3.238241</td>\n",
       "      <td>64.823299</td>\n",
       "      <td>18.099206</td>\n",
       "      <td>6.502643</td>\n",
       "      <td>21.100794</td>\n",
       "    </tr>\n",
       "    <tr>\n",
       "      <th>std</th>\n",
       "      <td>3.761617</td>\n",
       "      <td>25.679992</td>\n",
       "      <td>5.737825</td>\n",
       "      <td>4.210321</td>\n",
       "      <td>9.471334</td>\n",
       "    </tr>\n",
       "    <tr>\n",
       "      <th>min</th>\n",
       "      <td>0.000000</td>\n",
       "      <td>0.000000</td>\n",
       "      <td>8.400000</td>\n",
       "      <td>0.003000</td>\n",
       "      <td>3.700000</td>\n",
       "    </tr>\n",
       "    <tr>\n",
       "      <th>25%</th>\n",
       "      <td>1.200203</td>\n",
       "      <td>51.194676</td>\n",
       "      <td>13.100000</td>\n",
       "      <td>2.735000</td>\n",
       "      <td>12.925000</td>\n",
       "    </tr>\n",
       "    <tr>\n",
       "      <th>50%</th>\n",
       "      <td>2.271200</td>\n",
       "      <td>70.931837</td>\n",
       "      <td>17.800000</td>\n",
       "      <td>6.565000</td>\n",
       "      <td>21.800000</td>\n",
       "    </tr>\n",
       "    <tr>\n",
       "      <th>75%</th>\n",
       "      <td>3.946600</td>\n",
       "      <td>85.334334</td>\n",
       "      <td>22.275000</td>\n",
       "      <td>9.640000</td>\n",
       "      <td>27.100000</td>\n",
       "    </tr>\n",
       "    <tr>\n",
       "      <th>max</th>\n",
       "      <td>28.562980</td>\n",
       "      <td>98.327940</td>\n",
       "      <td>30.600000</td>\n",
       "      <td>20.500000</td>\n",
       "      <td>44.700000</td>\n",
       "    </tr>\n",
       "  </tbody>\n",
       "</table>\n",
       "</div>"
      ],
      "text/plain": [
       "       Death Rate  Recovery Rate  noncommunicabledeath_prob  \\\n",
       "count  126.000000     126.000000                 126.000000   \n",
       "mean     3.238241      64.823299                  18.099206   \n",
       "std      3.761617      25.679992                   5.737825   \n",
       "min      0.000000       0.000000                   8.400000   \n",
       "25%      1.200203      51.194676                  13.100000   \n",
       "50%      2.271200      70.931837                  17.800000   \n",
       "75%      3.946600      85.334334                  22.275000   \n",
       "max     28.562980      98.327940                  30.600000   \n",
       "\n",
       "       alcoholconsumption_percapita  tobacco_usage  \n",
       "count                    126.000000     126.000000  \n",
       "mean                       6.502643      21.100794  \n",
       "std                        4.210321       9.471334  \n",
       "min                        0.003000       3.700000  \n",
       "25%                        2.735000      12.925000  \n",
       "50%                        6.565000      21.800000  \n",
       "75%                        9.640000      27.100000  \n",
       "max                       20.500000      44.700000  "
      ]
     },
     "execution_count": 106,
     "metadata": {},
     "output_type": "execute_result"
    }
   ],
   "source": [
    "# Descriptive Statistics for Each Column\n",
    "descriptive_stats = combined_final_df.describe()\n",
    "descriptive_stats\n",
    "# Based on the descriptives stats, we the can rule that there are no outliers."
   ]
  },
  {
   "cell_type": "markdown",
   "metadata": {},
   "source": [
    "## Creating a histogram of the variables in the final dataset\n"
   ]
  },
  {
   "cell_type": "code",
   "execution_count": 13,
   "metadata": {},
   "outputs": [
    {
     "data": {
      "image/png": "[encoded data removed]",
      "text/plain": [
       "<Figure size 720x720 with 6 Axes>"
      ]
     },
     "metadata": {
      "needs_background": "light"
     },
     "output_type": "display_data"
    }
   ],
   "source": [
    "hist = combined_final_df.hist(bins=40, figsize=(10,10))"
   ]
  },
  {
   "cell_type": "markdown",
   "metadata": {},
   "source": [
    "## PMF - Mapping PMF of all variables on each other"
   ]
  },
  {
   "cell_type": "code",
   "execution_count": 105,
   "metadata": {},
   "outputs": [
    {
     "name": "stderr",
     "output_type": "stream",
     "text": [
      "C:\\Users\\prate\\anaconda3\\lib\\site-packages\\seaborn\\_decorators.py:36: FutureWarning: Pass the following variables as keyword args: x, y. From version 0.12, the only valid positional argument will be `data`, and passing other arguments without an explicit keyword will result in an error or misinterpretation.\n",
      "  warnings.warn(\n",
      "C:\\Users\\prate\\anaconda3\\lib\\site-packages\\seaborn\\_decorators.py:36: FutureWarning: Pass the following variables as keyword args: x, y. From version 0.12, the only valid positional argument will be `data`, and passing other arguments without an explicit keyword will result in an error or misinterpretation.\n",
      "  warnings.warn(\n",
      "C:\\Users\\prate\\anaconda3\\lib\\site-packages\\seaborn\\_decorators.py:36: FutureWarning: Pass the following variables as keyword args: x, y. From version 0.12, the only valid positional argument will be `data`, and passing other arguments without an explicit keyword will result in an error or misinterpretation.\n",
      "  warnings.warn(\n",
      "C:\\Users\\prate\\anaconda3\\lib\\site-packages\\seaborn\\_decorators.py:36: FutureWarning: Pass the following variables as keyword args: x, y. From version 0.12, the only valid positional argument will be `data`, and passing other arguments without an explicit keyword will result in an error or misinterpretation.\n",
      "  warnings.warn(\n"
     ]
    },
    {
     "data": {
      "text/plain": [
       "[Text(0.5, 0, 'Normalized Values of all variables'),\n",
       " Text(0, 0.5, 'Probabilities'),\n",
       " Text(0.5, 1.0, 'PMF')]"
      ]
     },
     "execution_count": 105,
     "metadata": {},
     "output_type": "execute_result"
    },
    {
     "data": {
      "image/png": "[encoded data removed]",
      "text/plain": [
       "<Figure size 432x288 with 1 Axes>"
      ]
     },
     "metadata": {
      "needs_background": "light"
     },
     "output_type": "display_data"
    }
   ],
   "source": [
    "probabilities_deathrate = combined_final_df['Death Rate'].value_counts(normalize=True)    \n",
    "g = sns.barplot(probabilities_deathrate.index, probabilities_deathrate.values, color='blue')\n",
    "\n",
    "\n",
    "probabilities_nonc = combined_final_df['noncommunicabledeath_prob'].value_counts(normalize=True)    \n",
    "g = sns.barplot(probabilities_nonc.index, probabilities_nonc.values, color='green')\n",
    "\n",
    "probabilities_alcohol = combined_final_df['alcoholconsumption_percapita'].value_counts(normalize=True)   \n",
    "g = sns.barplot(probabilities_alcohol.index, probabilities_alcohol.values, color='yellow')\n",
    " \n",
    "\n",
    "probabilities_tobacco = combined_final_df['tobacco_usage'].value_counts(normalize=True)  \n",
    "g = sns.barplot(probabilities_tobacco.index, probabilities_tobacco.values, color='red')\n",
    "\n",
    "g.set_xscale(\"log\")\n",
    "g.set_yscale(\"log\")\n",
    "g.set(xlabel=\"Normalized Values of all variables\", ylabel = \"Probabilities\", title=\"PMF\" )"
   ]
  },
  {
   "cell_type": "markdown",
   "metadata": {},
   "source": [
    "## PDF and CDF"
   ]
  },
  {
   "cell_type": "code",
   "execution_count": 104,
   "metadata": {},
   "outputs": [
    {
     "data": {
      "text/plain": [
       "<matplotlib.legend.Legend at 0x1a9de7a4670>"
      ]
     },
     "execution_count": 104,
     "metadata": {},
     "output_type": "execute_result"
    },
    {
     "data": {
      "image/png": "[encoded data removed]",
      "text/plain": [
       "<Figure size 432x288 with 1 Axes>"
      ]
     },
     "metadata": {
      "needs_background": "light"
     },
     "output_type": "display_data"
    }
   ],
   "source": [
    "# getting data of the histogram\n",
    "count, bins_count = np.histogram(combined_final_df['Death Rate'], bins=10)\n",
    "  \n",
    "# finding the PDF of the histogram using count values\n",
    "pdf = count / sum(count)\n",
    "  \n",
    "# using numpy np.cumsum to calculate the CDF\n",
    "cdf = np.cumsum(pdf)\n",
    "  \n",
    "# plotting PDF and CDF\n",
    "plt.plot(bins_count[1:], pdf, color=\"red\", label=\"Death Rate PDF\")\n",
    "plt.plot(bins_count[1:], cdf, label=\"Death Rate CDF\")\n",
    "plt.legend()\n",
    "\n",
    "# getting data of the histogram\n",
    "count, bins_count = np.histogram(combined_final_df['noncommunicabledeath_prob'], bins=10)\n",
    "  \n",
    "# finding the PDF of the histogram using count values\n",
    "pdf = count / sum(count)\n",
    "  \n",
    "# using numpy np.cumsum to calculate the CDF\n",
    "cdf = np.cumsum(pdf)\n",
    "  \n",
    "# plotting PDF and CDF\n",
    "plt.plot(bins_count[1:], pdf, color=\"green\", label=\"Noncommunicable Death Probability PDF\")\n",
    "plt.plot(bins_count[1:], cdf, label=\"Noncommunicable Death Probability CDF\")\n",
    "plt.legend()\n",
    "\n",
    "\n",
    "\n",
    "\n"
   ]
  },
  {
   "cell_type": "code",
   "execution_count": 103,
   "metadata": {},
   "outputs": [
    {
     "data": {
      "text/plain": [
       "<matplotlib.legend.Legend at 0x1a9de7393d0>"
      ]
     },
     "execution_count": 103,
     "metadata": {},
     "output_type": "execute_result"
    },
    {
     "data": {
      "image/png": "[encoded data removed]",
      "text/plain": [
       "<Figure size 432x288 with 1 Axes>"
      ]
     },
     "metadata": {
      "needs_background": "light"
     },
     "output_type": "display_data"
    }
   ],
   "source": [
    "# getting data of the histogram\n",
    "count, bins_count = np.histogram(combined_final_df['Death Rate'], bins=10)\n",
    "  \n",
    "# finding the PDF of the histogram using count values\n",
    "pdf = count / sum(count)\n",
    "  \n",
    "# using numpy np.cumsum to calculate the CDF\n",
    "cdf = np.cumsum(pdf)\n",
    "  \n",
    "# plotting PDF and CDF\n",
    "plt.plot(bins_count[1:], pdf, color=\"red\", label=\"Death Rate PDF\")\n",
    "plt.plot(bins_count[1:], cdf, label=\"Death Rate CDF\")\n",
    "plt.legend()\n",
    "\n",
    "\n",
    "# getting data of the histogram\n",
    "count, bins_count = np.histogram(combined_final_df['alcoholconsumption_percapita'], bins=10)\n",
    "  \n",
    "# finding the PDF of the histogram using count values\n",
    "pdf = count / sum(count)\n",
    "  \n",
    "# using numpy np.cumsum to calculate the CDF\n",
    "cdf = np.cumsum(pdf)\n",
    "  \n",
    "# plotting PDF and CDF\n",
    "plt.plot(bins_count[1:], pdf, color=\"purple\", label=\"Alcohol Consumption PDF\")\n",
    "plt.plot(bins_count[1:], cdf, label=\"Alcohol Consumption CDF\")\n",
    "plt.legend()\n"
   ]
  },
  {
   "cell_type": "code",
   "execution_count": 102,
   "metadata": {},
   "outputs": [
    {
     "data": {
      "text/plain": [
       "<matplotlib.legend.Legend at 0x1a9de6cb2b0>"
      ]
     },
     "execution_count": 102,
     "metadata": {},
     "output_type": "execute_result"
    },
    {
     "data": {
      "image/png": "[encoded data removed]",
      "text/plain": [
       "<Figure size 432x288 with 1 Axes>"
      ]
     },
     "metadata": {
      "needs_background": "light"
     },
     "output_type": "display_data"
    }
   ],
   "source": [
    "# getting data of the histogram\n",
    "count, bins_count = np.histogram(combined_final_df['Death Rate'], bins=10)\n",
    "  \n",
    "# finding the PDF of the histogram using count values\n",
    "pdf = count / sum(count)\n",
    "  \n",
    "# using numpy np.cumsum to calculate the CDF\n",
    "cdf = np.cumsum(pdf)\n",
    "  \n",
    "# plotting PDF and CDF\n",
    "plt.plot(bins_count[1:], pdf, color=\"red\", label=\"Death Rate PDF\")\n",
    "plt.plot(bins_count[1:], cdf, label=\"Death Rate CDF\")\n",
    "plt.legend()\n",
    "\n",
    "# getting data of the histogram\n",
    "count, bins_count = np.histogram(combined_final_df['tobacco_usage'], bins=10)\n",
    "  \n",
    "# finding the PDF of the histogram using count values\n",
    "pdf = count / sum(count)\n",
    "  \n",
    "# using numpy np.cumsum to calculate the CDF\n",
    "cdf = np.cumsum(pdf)\n",
    "  \n",
    "# plotting PDF and CDF\n",
    "plt.plot(bins_count[1:], pdf, color=\"pink\", label=\"Tobacco Usage PDF\")\n",
    "plt.plot(bins_count[1:], cdf, label=\"Tobacco Usage CDF\")\n",
    "plt.legend()"
   ]
  },
  {
   "cell_type": "markdown",
   "metadata": {},
   "source": [
    "## Scatter Plots and Fitted Line"
   ]
  },
  {
   "cell_type": "code",
   "execution_count": 101,
   "metadata": {},
   "outputs": [
    {
     "data": {
      "image/png": "[encoded data removed]",
      "text/plain": [
       "<Figure size 432x288 with 1 Axes>"
      ]
     },
     "metadata": {
      "needs_background": "light"
     },
     "output_type": "display_data"
    }
   ],
   "source": [
    "plt.scatter(combined_final_df['alcoholconsumption_percapita'], combined_final_df['Death Rate'] )\n",
    "plt.plot(np.unique(combined_final_df['alcoholconsumption_percapita']), np.poly1d(np.polyfit(combined_final_df['alcoholconsumption_percapita'], combined_final_df['Death Rate'], 1))(np.unique(combined_final_df['alcoholconsumption_percapita'])))\n",
    "plt.title('Alcohol Consumption Vs Covid Death Rate', fontsize=14)\n",
    "plt.xlabel('Alcohol Consumption', fontsize=14)\n",
    "plt.ylabel('Covid Death Rate', fontsize=14)\n",
    "plt.show()"
   ]
  },
  {
   "cell_type": "code",
   "execution_count": 100,
   "metadata": {},
   "outputs": [
    {
     "data": {
      "image/png": "[encoded data removed]",
      "text/plain": [
       "<Figure size 432x288 with 1 Axes>"
      ]
     },
     "metadata": {
      "needs_background": "light"
     },
     "output_type": "display_data"
    }
   ],
   "source": [
    "plt.scatter(combined_final_df['noncommunicabledeath_prob'], combined_final_df['Death Rate'])\n",
    "plt.plot(np.unique(combined_final_df['noncommunicabledeath_prob']), np.poly1d(np.polyfit(combined_final_df['noncommunicabledeath_prob'], combined_final_df['Death Rate'], 1))(np.unique(combined_final_df['noncommunicabledeath_prob'])))\n",
    "plt.title('Probability of Death due to Non Communicable Diseases Vs Covid Death Rate', fontsize=14)\n",
    "plt.xlabel('Probability of Death due to Non Communicable Diseases', fontsize=14)\n",
    "plt.ylabel('Covid Death Rate', fontsize=14)\n",
    "plt.show()"
   ]
  },
  {
   "cell_type": "code",
   "execution_count": 99,
   "metadata": {},
   "outputs": [
    {
     "data": {
      "image/png": "[encoded data removed]",
      "text/plain": [
       "<Figure size 432x288 with 1 Axes>"
      ]
     },
     "metadata": {
      "needs_background": "light"
     },
     "output_type": "display_data"
    }
   ],
   "source": [
    "plt.scatter(combined_final_df['tobacco_usage'], combined_final_df['Death Rate'] )\n",
    "plt.plot(np.unique(combined_final_df['tobacco_usage']), np.poly1d(np.polyfit(combined_final_df['tobacco_usage'], combined_final_df['Death Rate'], 1))(np.unique(combined_final_df['tobacco_usage'])))\n",
    "plt.title('Tobacco Usage Vs Covid Death Rate', fontsize=14)\n",
    "plt.xlabel('Tobacco Usage', fontsize=14)\n",
    "plt.ylabel('Covid Death Rate', fontsize=14)\n",
    "plt.show()"
   ]
  },
  {
   "cell_type": "markdown",
   "metadata": {},
   "source": [
    "## Covariance, Pearsonr and Spearmanr"
   ]
  },
  {
   "cell_type": "code",
   "execution_count": 98,
   "metadata": {},
   "outputs": [
    {
     "name": "stdout",
     "output_type": "stream",
     "text": [
      "Covariance for alcoholconsumption_percapita:  [[17.72680233  2.05870018]\n",
      " [ 2.05870018 14.14976161]]\n",
      "Pearsonr for alcoholconsumption_percapita:  0.12998802336952864\n",
      "Spearmanr for alcoholconsumption_percapita:  0.26418232845296885\n"
     ]
    }
   ],
   "source": [
    "covariance_1 = cov(combined_final_df['alcoholconsumption_percapita'], combined_final_df['Death Rate'])\n",
    "corr_p_1, _ = pearsonr(combined_final_df['alcoholconsumption_percapita'], combined_final_df['Death Rate'])\n",
    "corr_s_1, _ = spearmanr(combined_final_df['alcoholconsumption_percapita'], combined_final_df['Death Rate'])\n",
    "print(\"Covariance for alcoholconsumption_percapita: \",covariance_1)\n",
    "print(\"Pearsonr for alcoholconsumption_percapita: \",corr_p_1)\n",
    "print(\"Spearmanr for alcoholconsumption_percapita: \",corr_s_1)"
   ]
  },
  {
   "cell_type": "code",
   "execution_count": 97,
   "metadata": {},
   "outputs": [
    {
     "name": "stdout",
     "output_type": "stream",
     "text": [
      "Covariance for noncommunicabledeath_prob:  [[32.92263937 -1.72755122]\n",
      " [-1.72755122 14.14976161]]\n",
      "Pearsonr for noncommunicabledeath_prob:  -0.08004036301776227\n",
      "Spearmanr for noncommunicabledeath_prob:  -0.18269253846709124\n"
     ]
    }
   ],
   "source": [
    "covariance_2 = cov(combined_final_df['noncommunicabledeath_prob'], combined_final_df['Death Rate'])\n",
    "corr_p_2, _ = pearsonr(combined_final_df['noncommunicabledeath_prob'], combined_final_df['Death Rate'])\n",
    "corr_s_2, _ =  spearmanr(combined_final_df['noncommunicabledeath_prob'], combined_final_df['Death Rate'])\n",
    "print(\"Covariance for noncommunicabledeath_prob: \",covariance_2)\n",
    "print(\"Pearsonr for noncommunicabledeath_prob: \",corr_p_2)\n",
    "print(\"Spearmanr for noncommunicabledeath_prob: \",corr_s_2)"
   ]
  },
  {
   "cell_type": "code",
   "execution_count": 96,
   "metadata": {},
   "outputs": [
    {
     "name": "stdout",
     "output_type": "stream",
     "text": [
      "Covariance for tobacco_usage:  [[89.70615937  3.43526956]\n",
      " [ 3.43526956 14.14976161]]\n",
      "Pearsonr for tobacco_usage:  0.09642177636969855\n",
      "Spearmanr for tobacco_usage:  0.13157515794838082\n"
     ]
    }
   ],
   "source": [
    "covariance_3 = cov(combined_final_df['tobacco_usage'], combined_final_df['Death Rate'])\n",
    "corr_p_3, _ = pearsonr(combined_final_df['tobacco_usage'], combined_final_df['Death Rate'])\n",
    "corr_s_3, _ = spearmanr(combined_final_df['tobacco_usage'], combined_final_df['Death Rate'])\n",
    "print(\"Covariance for tobacco_usage: \",covariance_3)\n",
    "print(\"Pearsonr for tobacco_usage: \",corr_p_3)\n",
    "print(\"Spearmanr for tobacco_usage: \",corr_s_3)"
   ]
  },
  {
   "cell_type": "markdown",
   "metadata": {},
   "source": [
    "## Hypothesis Testing - One Sample T test and Z Test"
   ]
  },
  {
   "cell_type": "code",
   "execution_count": 93,
   "metadata": {},
   "outputs": [
    {
     "name": "stdout",
     "output_type": "stream",
     "text": [
      "alcohol consumption mean 6.502642857142857\n",
      " For alcohol consumption...\n",
      " we are rejecting null hypothesis\n"
     ]
    }
   ],
   "source": [
    "alcohol_mean = np.mean(combined_final_df['alcoholconsumption_percapita'])\n",
    "print(\"alcohol consumption mean\", alcohol_mean)\n",
    "tset, pval = ttest_1samp(combined_final_df['alcoholconsumption_percapita'], 30)\n",
    "print(\" For alcohol consumption...\")\n",
    "\n",
    "if pval < 0.05:    # alpha value is 0.05 or 5%\n",
    "   print(\" we are rejecting null hypothesis\")\n",
    "else:\n",
    "  print(\"we are accepting null hypothesis\")"
   ]
  },
  {
   "cell_type": "code",
   "execution_count": 94,
   "metadata": {},
   "outputs": [
    {
     "name": "stdout",
     "output_type": "stream",
     "text": [
      "Non Communicable disease mean:  18.099206349206348\n",
      " For Non Communicable disease...\n",
      " we are rejecting null hypothesis\n"
     ]
    }
   ],
   "source": [
    "noncommunicable_mean = np.mean(combined_final_df['noncommunicabledeath_prob'])\n",
    "print(\"Non Communicable disease mean: \", noncommunicable_mean)\n",
    "tset, pval = ttest_1samp(combined_final_df['noncommunicabledeath_prob'], 30)\n",
    "print(\" For Non Communicable disease...\")\n",
    "\n",
    "if pval < 0.05:    # alpha value is 0.05 or 5%\n",
    "   print(\" we are rejecting null hypothesis\")\n",
    "else:\n",
    "  print(\"we are accepting null hypothesis\")"
   ]
  },
  {
   "cell_type": "code",
   "execution_count": 95,
   "metadata": {},
   "outputs": [
    {
     "name": "stdout",
     "output_type": "stream",
     "text": [
      "Tobacco mean:  21.100793650793666\n",
      " For Tobacco Usage...\n",
      " we are rejecting null hypothesis\n"
     ]
    }
   ],
   "source": [
    "tobacco_mean = np.mean(combined_final_df['tobacco_usage'])\n",
    "print(\"Tobacco mean: \", tobacco_mean)\n",
    "tset, pval = ttest_1samp(combined_final_df['tobacco_usage'], 30)\n",
    "print(\" For Tobacco Usage...\")\n",
    "\n",
    "\n",
    "if pval < 0.05:    # alpha value is 0.05 or 5%\n",
    "   print(\" we are rejecting null hypothesis\")\n",
    "else:\n",
    "  print(\"we are accepting null hypothesis\")"
   ]
  },
  {
   "cell_type": "code",
   "execution_count": 89,
   "metadata": {},
   "outputs": [
    {
     "name": "stdout",
     "output_type": "stream",
     "text": [
      " For alcohol consumption...\n",
      " we are rejecting null hypothesis\n"
     ]
    }
   ],
   "source": [
    "\n",
    "ztest ,pval = stests.ztest(combined_final_df['alcoholconsumption_percapita'], x2=None, value=156)\n",
    "print(\" For alcohol consumption...\")\n",
    "\n",
    "if pval<0.05:\n",
    "   print(\" we are rejecting null hypothesis\")\n",
    "else:\n",
    "  print(\"we are accepting null hypothesis\")"
   ]
  },
  {
   "cell_type": "code",
   "execution_count": 90,
   "metadata": {},
   "outputs": [
    {
     "name": "stdout",
     "output_type": "stream",
     "text": [
      " For Non Communicable disease...\n",
      " we are rejecting null hypothesis\n"
     ]
    }
   ],
   "source": [
    "\n",
    "ztest ,pval = stests.ztest(combined_final_df['noncommunicabledeath_prob'], x2=None, value=156)\n",
    "print(\" For Non Communicable disease...\")\n",
    "\n",
    "if pval<0.05:\n",
    "   print(\" we are rejecting null hypothesis\")\n",
    "else:\n",
    "  print(\"we are accepting null hypothesis\")"
   ]
  },
  {
   "cell_type": "code",
   "execution_count": 91,
   "metadata": {},
   "outputs": [
    {
     "name": "stdout",
     "output_type": "stream",
     "text": [
      " For Tobacco Usage...\n",
      " we are rejecting null hypothesis\n"
     ]
    }
   ],
   "source": [
    "\n",
    "ztest ,pval = stests.ztest(combined_final_df['tobacco_usage'], x2=None, value=156)\n",
    "print(\" For Tobacco Usage...\")\n",
    "\n",
    "if pval<0.05:\n",
    "   print(\" we are rejecting null hypothesis\")\n",
    "else:\n",
    "  print(\"we are accepting null hypothesis\")"
   ]
  },
  {
   "cell_type": "markdown",
   "metadata": {},
   "source": [
    "## Multiple Regression Analysis"
   ]
  },
  {
   "cell_type": "code",
   "execution_count": 49,
   "metadata": {},
   "outputs": [
    {
     "name": "stdout",
     "output_type": "stream",
     "text": [
      "Intercept: \n",
      " 2.694069500408635\n",
      "Coefficients: \n",
      " [ 0.02803449 -0.03397567  0.08728047]\n"
     ]
    }
   ],
   "source": [
    "X = combined_final_df[['tobacco_usage','noncommunicabledeath_prob','alcoholconsumption_percapita']]\n",
    "Y = combined_final_df['Death Rate']\n",
    " \n",
    "# with sklearn\n",
    "regr = linear_model.LinearRegression()\n",
    "regr.fit(X, Y)\n",
    "\n",
    "print('Intercept: \\n', regr.intercept_)\n",
    "print('Coefficients: \\n', regr.coef_)"
   ]
  },
  {
   "cell_type": "code",
   "execution_count": 53,
   "metadata": {},
   "outputs": [
    {
     "data": {
      "text/html": [
       "<table class=\"simpletable\">\n",
       "<caption>OLS Regression Results</caption>\n",
       "<tr>\n",
       "  <th>Dep. Variable:</th>       <td>Death Rate</td>    <th>  R-squared (uncentered):</th>      <td>   0.427</td>\n",
       "</tr>\n",
       "<tr>\n",
       "  <th>Model:</th>                   <td>OLS</td>       <th>  Adj. R-squared (uncentered):</th> <td>   0.413</td>\n",
       "</tr>\n",
       "<tr>\n",
       "  <th>Method:</th>             <td>Least Squares</td>  <th>  F-statistic:       </th>          <td>   30.49</td>\n",
       "</tr>\n",
       "<tr>\n",
       "  <th>Date:</th>             <td>Sat, 05 Jun 2021</td> <th>  Prob (F-statistic):</th>          <td>8.27e-15</td>\n",
       "</tr>\n",
       "<tr>\n",
       "  <th>Time:</th>                 <td>15:36:04</td>     <th>  Log-Likelihood:    </th>          <td> -345.33</td>\n",
       "</tr>\n",
       "<tr>\n",
       "  <th>No. Observations:</th>      <td>   126</td>      <th>  AIC:               </th>          <td>   696.7</td>\n",
       "</tr>\n",
       "<tr>\n",
       "  <th>Df Residuals:</th>          <td>   123</td>      <th>  BIC:               </th>          <td>   705.2</td>\n",
       "</tr>\n",
       "<tr>\n",
       "  <th>Df Model:</th>              <td>     3</td>      <th>                     </th>              <td> </td>   \n",
       "</tr>\n",
       "<tr>\n",
       "  <th>Covariance Type:</th>      <td>nonrobust</td>    <th>                     </th>              <td> </td>   \n",
       "</tr>\n",
       "</table>\n",
       "<table class=\"simpletable\">\n",
       "<tr>\n",
       "                <td></td>                  <th>coef</th>     <th>std err</th>      <th>t</th>      <th>P>|t|</th>  <th>[0.025</th>    <th>0.975]</th>  \n",
       "</tr>\n",
       "<tr>\n",
       "  <th>tobacco_usage</th>                <td>    0.0528</td> <td>    0.034</td> <td>    1.535</td> <td> 0.127</td> <td>   -0.015</td> <td>    0.121</td>\n",
       "</tr>\n",
       "<tr>\n",
       "  <th>noncommunicabledeath_prob</th>    <td>    0.0542</td> <td>    0.036</td> <td>    1.493</td> <td> 0.138</td> <td>   -0.018</td> <td>    0.126</td>\n",
       "</tr>\n",
       "<tr>\n",
       "  <th>alcoholconsumption_percapita</th> <td>    0.1554</td> <td>    0.078</td> <td>    1.995</td> <td> 0.048</td> <td>    0.001</td> <td>    0.310</td>\n",
       "</tr>\n",
       "</table>\n",
       "<table class=\"simpletable\">\n",
       "<tr>\n",
       "  <th>Omnibus:</th>       <td>120.862</td> <th>  Durbin-Watson:     </th> <td>   2.246</td>\n",
       "</tr>\n",
       "<tr>\n",
       "  <th>Prob(Omnibus):</th> <td> 0.000</td>  <th>  Jarque-Bera (JB):  </th> <td>1729.605</td>\n",
       "</tr>\n",
       "<tr>\n",
       "  <th>Skew:</th>          <td> 3.322</td>  <th>  Prob(JB):          </th> <td>    0.00</td>\n",
       "</tr>\n",
       "<tr>\n",
       "  <th>Kurtosis:</th>      <td>19.891</td>  <th>  Cond. No.          </th> <td>    7.04</td>\n",
       "</tr>\n",
       "</table><br/><br/>Notes:<br/>[1] R² is computed without centering (uncentered) since the model does not contain a constant.<br/>[2] Standard Errors assume that the covariance matrix of the errors is correctly specified."
      ],
      "text/plain": [
       "<class 'statsmodels.iolib.summary.Summary'>\n",
       "\"\"\"\n",
       "                                 OLS Regression Results                                \n",
       "=======================================================================================\n",
       "Dep. Variable:             Death Rate   R-squared (uncentered):                   0.427\n",
       "Model:                            OLS   Adj. R-squared (uncentered):              0.413\n",
       "Method:                 Least Squares   F-statistic:                              30.49\n",
       "Date:                Sat, 05 Jun 2021   Prob (F-statistic):                    8.27e-15\n",
       "Time:                        15:36:04   Log-Likelihood:                         -345.33\n",
       "No. Observations:                 126   AIC:                                      696.7\n",
       "Df Residuals:                     123   BIC:                                      705.2\n",
       "Df Model:                           3                                                  \n",
       "Covariance Type:            nonrobust                                                  \n",
       "================================================================================================\n",
       "                                   coef    std err          t      P>|t|      [0.025      0.975]\n",
       "------------------------------------------------------------------------------------------------\n",
       "tobacco_usage                    0.0528      0.034      1.535      0.127      -0.015       0.121\n",
       "noncommunicabledeath_prob        0.0542      0.036      1.493      0.138      -0.018       0.126\n",
       "alcoholconsumption_percapita     0.1554      0.078      1.995      0.048       0.001       0.310\n",
       "==============================================================================\n",
       "Omnibus:                      120.862   Durbin-Watson:                   2.246\n",
       "Prob(Omnibus):                  0.000   Jarque-Bera (JB):             1729.605\n",
       "Skew:                           3.322   Prob(JB):                         0.00\n",
       "Kurtosis:                      19.891   Cond. No.                         7.04\n",
       "==============================================================================\n",
       "\n",
       "Notes:\n",
       "[1] R² is computed without centering (uncentered) since the model does not contain a constant.\n",
       "[2] Standard Errors assume that the covariance matrix of the errors is correctly specified.\n",
       "\"\"\""
      ]
     },
     "execution_count": 53,
     "metadata": {},
     "output_type": "execute_result"
    }
   ],
   "source": [
    "model = sm.OLS(Y, X).fit()\n",
    "model.summary()"
   ]
  },
  {
   "cell_type": "code",
   "execution_count": 54,
   "metadata": {},
   "outputs": [
    {
     "data": {
      "text/html": [
       "<table class=\"simpletable\">\n",
       "<caption>OLS Regression Results</caption>\n",
       "<tr>\n",
       "  <th>Dep. Variable:</th>       <td>Death Rate</td>    <th>  R-squared:         </th> <td>   0.024</td>\n",
       "</tr>\n",
       "<tr>\n",
       "  <th>Model:</th>                   <td>OLS</td>       <th>  Adj. R-squared:    </th> <td>  -0.000</td>\n",
       "</tr>\n",
       "<tr>\n",
       "  <th>Method:</th>             <td>Least Squares</td>  <th>  F-statistic:       </th> <td>  0.9852</td>\n",
       "</tr>\n",
       "<tr>\n",
       "  <th>Date:</th>             <td>Sat, 05 Jun 2021</td> <th>  Prob (F-statistic):</th>  <td> 0.402</td> \n",
       "</tr>\n",
       "<tr>\n",
       "  <th>Time:</th>                 <td>15:37:09</td>     <th>  Log-Likelihood:    </th> <td> -343.71</td>\n",
       "</tr>\n",
       "<tr>\n",
       "  <th>No. Observations:</th>      <td>   126</td>      <th>  AIC:               </th> <td>   695.4</td>\n",
       "</tr>\n",
       "<tr>\n",
       "  <th>Df Residuals:</th>          <td>   122</td>      <th>  BIC:               </th> <td>   706.8</td>\n",
       "</tr>\n",
       "<tr>\n",
       "  <th>Df Model:</th>              <td>     3</td>      <th>                     </th>     <td> </td>   \n",
       "</tr>\n",
       "<tr>\n",
       "  <th>Covariance Type:</th>      <td>nonrobust</td>    <th>                     </th>     <td> </td>   \n",
       "</tr>\n",
       "</table>\n",
       "<table class=\"simpletable\">\n",
       "<tr>\n",
       "                <td></td>                  <th>coef</th>     <th>std err</th>      <th>t</th>      <th>P>|t|</th>  <th>[0.025</th>    <th>0.975]</th>  \n",
       "</tr>\n",
       "<tr>\n",
       "  <th>const</th>                        <td>    2.6941</td> <td>    1.509</td> <td>    1.785</td> <td> 0.077</td> <td>   -0.293</td> <td>    5.681</td>\n",
       "</tr>\n",
       "<tr>\n",
       "  <th>tobacco_usage</th>                <td>    0.0280</td> <td>    0.037</td> <td>    0.762</td> <td> 0.448</td> <td>   -0.045</td> <td>    0.101</td>\n",
       "</tr>\n",
       "<tr>\n",
       "  <th>noncommunicabledeath_prob</th>    <td>   -0.0340</td> <td>    0.061</td> <td>   -0.556</td> <td> 0.579</td> <td>   -0.155</td> <td>    0.087</td>\n",
       "</tr>\n",
       "<tr>\n",
       "  <th>alcoholconsumption_percapita</th> <td>    0.0873</td> <td>    0.086</td> <td>    1.013</td> <td> 0.313</td> <td>   -0.083</td> <td>    0.258</td>\n",
       "</tr>\n",
       "</table>\n",
       "<table class=\"simpletable\">\n",
       "<tr>\n",
       "  <th>Omnibus:</th>       <td>130.949</td> <th>  Durbin-Watson:     </th> <td>   2.246</td>\n",
       "</tr>\n",
       "<tr>\n",
       "  <th>Prob(Omnibus):</th> <td> 0.000</td>  <th>  Jarque-Bera (JB):  </th> <td>2304.743</td>\n",
       "</tr>\n",
       "<tr>\n",
       "  <th>Skew:</th>          <td> 3.651</td>  <th>  Prob(JB):          </th> <td>    0.00</td>\n",
       "</tr>\n",
       "<tr>\n",
       "  <th>Kurtosis:</th>      <td>22.639</td>  <th>  Cond. No.          </th> <td>    134.</td>\n",
       "</tr>\n",
       "</table><br/><br/>Notes:<br/>[1] Standard Errors assume that the covariance matrix of the errors is correctly specified."
      ],
      "text/plain": [
       "<class 'statsmodels.iolib.summary.Summary'>\n",
       "\"\"\"\n",
       "                            OLS Regression Results                            \n",
       "==============================================================================\n",
       "Dep. Variable:             Death Rate   R-squared:                       0.024\n",
       "Model:                            OLS   Adj. R-squared:                 -0.000\n",
       "Method:                 Least Squares   F-statistic:                    0.9852\n",
       "Date:                Sat, 05 Jun 2021   Prob (F-statistic):              0.402\n",
       "Time:                        15:37:09   Log-Likelihood:                -343.71\n",
       "No. Observations:                 126   AIC:                             695.4\n",
       "Df Residuals:                     122   BIC:                             706.8\n",
       "Df Model:                           3                                         \n",
       "Covariance Type:            nonrobust                                         \n",
       "================================================================================================\n",
       "                                   coef    std err          t      P>|t|      [0.025      0.975]\n",
       "------------------------------------------------------------------------------------------------\n",
       "const                            2.6941      1.509      1.785      0.077      -0.293       5.681\n",
       "tobacco_usage                    0.0280      0.037      0.762      0.448      -0.045       0.101\n",
       "noncommunicabledeath_prob       -0.0340      0.061     -0.556      0.579      -0.155       0.087\n",
       "alcoholconsumption_percapita     0.0873      0.086      1.013      0.313      -0.083       0.258\n",
       "==============================================================================\n",
       "Omnibus:                      130.949   Durbin-Watson:                   2.246\n",
       "Prob(Omnibus):                  0.000   Jarque-Bera (JB):             2304.743\n",
       "Skew:                           3.651   Prob(JB):                         0.00\n",
       "Kurtosis:                      22.639   Cond. No.                         134.\n",
       "==============================================================================\n",
       "\n",
       "Notes:\n",
       "[1] Standard Errors assume that the covariance matrix of the errors is correctly specified.\n",
       "\"\"\""
      ]
     },
     "execution_count": 54,
     "metadata": {},
     "output_type": "execute_result"
    }
   ],
   "source": [
    "X = sm.add_constant(X) # adding a constant\n",
    "model = sm.OLS(Y, X).fit()\n",
    "model.summary()"
   ]
  }
 ],
 "metadata": {
  "kernelspec": {
   "display_name": "Python 3 (ipykernel)",
   "language": "python",
   "name": "python3"
  },
  "language_info": {
   "codemirror_mode": {
    "name": "ipython",
    "version": 3
   },
   "file_extension": ".py",
   "mimetype": "text/x-python",
   "name": "python",
   "nbconvert_exporter": "python",
   "pygments_lexer": "ipython3",
   "version": "3.8.13"
  }
 },
 "nbformat": 4,
 "nbformat_minor": 4
}
